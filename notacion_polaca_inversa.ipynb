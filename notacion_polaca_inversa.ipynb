{
  "nbformat": 4,
  "nbformat_minor": 0,
  "metadata": {
    "colab": {
      "provenance": []
    },
    "kernelspec": {
      "name": "python3",
      "display_name": "Python 3"
    },
    "language_info": {
      "name": "python"
    }
  },
  "cells": [
    {
      "cell_type": "code",
      "execution_count": 78,
      "metadata": {
        "id": "DzEWF2dXOMk7",
        "colab": {
          "base_uri": "https://localhost:8080/"
        },
        "outputId": "d6194122-09f1-402b-f086-c29c3b7c34c8"
      },
      "outputs": [
        {
          "output_type": "stream",
          "name": "stdout",
          "text": [
            "3 1 3 + 2 ** *\n"
          ]
        }
      ],
      "source": [
        "#programa que pasa una cadena que contiene una expresión de paréntesis a una cadena que contiene una expresión en notación polaca inversa.\n",
        "\n",
        "#Funciones que emplea el Codigo\n",
        "\n",
        "def top_pila (pila):                             #Funcion que recibe una una lista (la pila) y vevuleve el ultimo elemento de la lista / pila\n",
        "  if pila == []:\n",
        "    return (\"vacio\")\n",
        "  else:\n",
        "    return pila[len(pila)-1]\n",
        "\n",
        "def valor (elementoDeLista):                     #Funcion que recibe una cadena, que tambien es un elemento de la lista de operadores, y devuelve un valor numerico asignado a cada operador admitido en la expreson\n",
        "  if elementoDeLista == \"vacio\":\n",
        "    return (0)\n",
        "  elif elementoDeLista == \"+\":\n",
        "    return (1)\n",
        "  elif elementoDeLista == \"-\":\n",
        "    return (1)\n",
        "  elif elementoDeLista == \"*\":\n",
        "    return (2)\n",
        "  elif elementoDeLista == \"/\":\n",
        "    return (2)\n",
        "  elif elementoDeLista == \"**\":\n",
        "    return (3)\n",
        "  elif elementoDeLista == \"(\":\n",
        "    return (4)\n",
        "  elif elementoDeLista == \")\":\n",
        "    return (5)\n",
        "\n",
        "#Variables que emplea el Codigo\n",
        "\n",
        "expresion_con_parentesis = \"3 * ( 1 + 3 ) ** 2\"         #Primero definimos una cadena de la expresion con parentesis que recibira el codigo para convertir a notacion polaca inversa\n",
        "operadores = ['+','-','*','/','**',\"(\",\")\"]             #lista de operadores con los que vamos a atrabajar\n",
        "pila=[]                                                 #pila que usa el programa para acomodar los operadores de la expresion con parentesis para depues seleccionarlos en el orden correcto para la notacio polaca inversa\n",
        "expresion_polaca_inversa = []                           #lista que contiene los elementos de la expresion con parentesis en el orden de la notacion polaca inversa\n",
        "lista_con_parentesis = expresion_con_parentesis.split() #lista que contiene como elementos los numeros, operadores y parentesis de la expresion que recibe el programa\n",
        "\n",
        "\n",
        "while lista_con_parentesis != []:\n",
        "\n",
        "  E = lista_con_parentesis.pop(0)                #extrae el primer elemento de la lista cuyos elementos son los terminos de la expresion con parentesis\n",
        "\n",
        "  if E.isnumeric() == True:                      #verifica si el termino de la expresion con parentesis es un numero\n",
        "    expresion_polaca_inversa.append(E)\n",
        "\n",
        "  elif valor(E) <= 3:                            #verifica si el termino de la expresion es un operador dado que no es un numero\n",
        "\n",
        "    while 4 > valor(top_pila(pila)) > valor(E):  #dado que el terino no es un numero, mientras no sea un parentesis, verifica si hay un operador de mayor gerarquia en la pila\n",
        "      P = pila.pop()                             #si lo anterior es cierto, extrae el ultimo termino de la pila y lo agrega a la lista de la expresion polaca inversa\n",
        "      expresion_polaca_inversa.append(P)\n",
        "    pila.append(E)\n",
        "\n",
        "  elif valor(E) == 4:                            #verifica si el termino es un parentesis izquierdo\n",
        "    pila.append(E)                               #si lo anterior es cierto agrega el termino a la pila\n",
        "\n",
        "  elif valor(E) == 5:                            #verifica si el terino es un parentesis derecho\n",
        "\n",
        "   while valor(top_pila(pila)) < 4:              #mientras haya operadores en la pila\n",
        "    if pila == []:                               #si la pila esta vacia, rompe el ciclo\n",
        "      break\n",
        "\n",
        "    else:\n",
        "      if valor(top_pila(pila)) < 4:              #de lo contario, extrae los operadores de la pila desde el top hasta el primero\n",
        "          P = pila.pop()\n",
        "          expresion_polaca_inversa.append(P)     #agrega el termino de la pila a la lista con los terminos de la cadena en notacion polaca inversa\n",
        "   pila.remove(\"(\")                              #una vez realizado lo anterior, retira el patentesis izquierdo de la pila\n",
        "\n",
        "while valor(top_pila(pila)) != 0:                #mientras la pila no este vacia retira uno por uno sus elementos desde el top hasta el fondo y los agrega en ese orden a la cadena que contiene los elementos de la expresion en notacion polaca inversa\n",
        "  P = pila.pop()\n",
        "  expresion_polaca_inversa.append(P)\n",
        "\n",
        "cadenaExpresionPolacaInversa = \" \".join(expresion_polaca_inversa) #Convierte los elementos de la lista de la expresion polaca inversa a una cadena\n",
        "\n",
        "\n",
        "print(cadenaExpresionPolacaInversa)\n",
        "\n",
        "if __name__ == \"__main__\":\n",
        "  top_pila ()\n",
        "  valor()\n"
      ]
    },
    {
      "cell_type": "code",
      "source": [],
      "metadata": {
        "id": "wVcg_e4_sCzz"
      },
      "execution_count": null,
      "outputs": []
    }
  ]
}