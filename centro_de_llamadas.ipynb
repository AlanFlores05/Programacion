{
  "nbformat": 4,
  "nbformat_minor": 0,
  "metadata": {
    "colab": {
      "provenance": []
    },
    "kernelspec": {
      "name": "python3",
      "display_name": "Python 3"
    },
    "language_info": {
      "name": "python"
    }
  },
  "cells": [
    {
      "cell_type": "code",
      "source": [
        "import numpy as np\n",
        "\n",
        "class Cola():\n",
        "  def __init__(self):\n",
        "    self.cola = []\n",
        "  def entrada(self, elemento):\n",
        "    self.colita.append(elemento)\n",
        "  def salida(self):\n",
        "    return self.cola.pop(0)\n",
        "  def vacio (self):\n",
        "    return True if len(self.cola) == 0 else False\n",
        "\n",
        "\n",
        "class Persona():\n",
        "  def __init__(self, h_ll, h_a, h_s, tipo):\n",
        "    self.h_llegada = h_ll\n",
        "    self.h_atencion = h_a\n",
        "    self.h_salida = h_s\n",
        "    self.tipo_de_cliente = tipo\n",
        "\n",
        "  def __str__(self):\n",
        "    cadena_de_impresion = ''\n",
        "    cadena_de_impresion += \"hora de llegada: \" + str(self.h_llegada) + ' mins\\h '\n",
        "    cadena_de_impresion += \"hora de atencion: \" + str(self.h_atencion) + ' mins\\h '\n",
        "    cadena_de_impresion += \"hora de salida: \" + str(self.h_salida) + ' mins\\h '\n",
        "    if self.tipo_de_cliente >= 1:\n",
        "      cadena_de_impresion += 'tipo: Normal.'\n",
        "    else:\n",
        "      cadena_de_impresion += 'tipo: premier.'\n",
        "    return cadena_de_impresion\n",
        "\n",
        "\n",
        "class Simulacion():\n",
        "  def __init__(self, n_clientes, n_servidores, proba,\n",
        "               min_at, max_at, min_inter, max_inter):\n",
        "    self.cola_prioridad = Cola()\n",
        "    self.cola_normal = Cola()\n",
        "    self.num_clientes = n_clientes\n",
        "    self.num_servidores = n_servidores\n",
        "    self.interarribos = min_inter"
      ],
      "metadata": {
        "id": "TlN-nGSmaPy0"
      },
      "execution_count": null,
      "outputs": []
    },
    {
      "cell_type": "code",
      "source": [],
      "metadata": {
        "id": "KfXMEmvXH1-b"
      },
      "execution_count": null,
      "outputs": []
    },
    {
      "cell_type": "code",
      "source": [
        "NumeroDePersonas = 3\n",
        "x = list(np.cumsum(np.random.uniform(1,3,NumeroDePersonas)))\n",
        "tiempo_at = list(np.random.uniform(1,81,NumeroDePersonas))\n",
        "tiempo_at.append(0)\n",
        "i = 0\n",
        "print(x)\n",
        "hll = x[0]\n",
        "hs = x[0] + tiempo_at[i-1]\n",
        "ha = hs - tiempo_at[i]\n",
        "#i = i+1\n",
        "tip = np.random.uniform(0,6,1)\n",
        "\n",
        "yo = Persona(x[1], ha, hll + ha, tip)\n",
        "print(yo)\n",
        "print(yo.tipo_de_cliente)"
      ],
      "metadata": {
        "colab": {
          "base_uri": "https://localhost:8080/"
        },
        "id": "AKHaX-yveWT9",
        "outputId": "960c117b-0c05-4300-d842-8555285354a9"
      },
      "execution_count": null,
      "outputs": [
        {
          "output_type": "stream",
          "name": "stdout",
          "text": [
            "[1.0400639657976607, 3.7349550900631465, 5.472294598421836]\n",
            "hora de llegada: 3.7349550900631465 mins\\h hora de atencion: 1.0400639657976607 mins\\h hora de salida: 2.0801279315953214 mins\\h tipo: premier.\n",
            "[0.30916272]\n"
          ]
        }
      ]
    }
  ]
}