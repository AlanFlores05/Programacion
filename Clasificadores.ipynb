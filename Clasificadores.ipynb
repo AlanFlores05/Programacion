{
  "nbformat": 4,
  "nbformat_minor": 0,
  "metadata": {
    "colab": {
      "provenance": []
    },
    "kernelspec": {
      "name": "python3",
      "display_name": "Python 3"
    },
    "language_info": {
      "name": "python"
    }
  },
  "cells": [
    {
      "cell_type": "code",
      "execution_count": 52,
      "metadata": {
        "colab": {
          "base_uri": "https://localhost:8080/"
        },
        "id": "Ckp0Q_G1YtPL",
        "outputId": "aaa8f1cf-dfed-4cc3-ac0e-e126597e6fce"
      },
      "outputs": [
        {
          "output_type": "stream",
          "name": "stdout",
          "text": [
            "Drive already mounted at mnt; to attempt to forcibly remount, call drive.mount(\"mnt\", force_remount=True).\n",
            "precisión Regresión logística,: 0.98\n",
            "\n",
            "Matriz de confusion:\n",
            " [[89  0]\n",
            " [ 3 58]] \n",
            "\n",
            "precisión de K-Nearest neighbors: 0.9\n",
            "\n",
            "Matriz de confusion:\n",
            " [[89  0]\n",
            " [15 46]] \n",
            "\n",
            "precisión de SVM: 0.92\n",
            "\n",
            "Matriz de confusion:\n",
            " [[88  1]\n",
            " [11 50]] \n",
            "\n"
          ]
        },
        {
          "output_type": "stream",
          "name": "stderr",
          "text": [
            "/usr/local/lib/python3.10/dist-packages/sklearn/linear_model/_logistic.py:469: ConvergenceWarning: lbfgs failed to converge (status=1):\n",
            "STOP: TOTAL NO. of ITERATIONS REACHED LIMIT.\n",
            "\n",
            "Increase the number of iterations (max_iter) or scale the data as shown in:\n",
            "    https://scikit-learn.org/stable/modules/preprocessing.html\n",
            "Please also refer to the documentation for alternative solver options:\n",
            "    https://scikit-learn.org/stable/modules/linear_model.html#logistic-regression\n",
            "  n_iter_i = _check_optimize_result(\n"
          ]
        },
        {
          "output_type": "stream",
          "name": "stdout",
          "text": [
            "precisión de Árboles de decisión: 0.8933333333333333\n",
            "\n",
            "Matriz de confusion:\n",
            " [[81  8]\n",
            " [ 8 53]] \n",
            "\n",
            "precisión de Random Forest: 0.9666666666666667\n",
            "\n",
            "Matriz de confusion:\n",
            " [[88  1]\n",
            " [ 4 57]] \n",
            "\n"
          ]
        }
      ],
      "source": [
        "from google.colab import drive\n",
        "from numpy import array\n",
        "from pandas import read_csv\n",
        "from sklearn.ensemble import RandomForestClassifier\n",
        "from sklearn.linear_model import LogisticRegression\n",
        "from sklearn.metrics import accuracy_score, confusion_matrix\n",
        "from sklearn.model_selection import train_test_split\n",
        "from sklearn.neighbors import NearestCentroid\n",
        "from sklearn.svm import SVC\n",
        "from sklearn.tree import DecisionTreeClassifier\n",
        "drive.mount (\"mnt\")\n",
        "\n",
        "\n",
        "class Clasificador():\n",
        "\n",
        "  def __init__ (self, ruta_de_archivo):\n",
        "    #inicializa el DataFrame de donde recupera datos\n",
        "    self.ruta_de_archivo = read_csv(ruta_de_archivo)\n",
        "    #matriz que contiene los datos de cada diagnostico\n",
        "    self.x = array(self.ruta_de_archivo.iloc[:,2:])\n",
        "    #lista que contiene los dignosticos\n",
        "    self.y = list(self.ruta_de_archivo['diagnosis'])\n",
        "    #divide los datos en una proporcion 70\\30 para entrenamiento\\prueba\n",
        "    self.x_train, self.x_test, self.y_train, self.y_test=(train_test_split(\n",
        "                                                          self.x, self.y,\n",
        "                                                          test_size = 0.30,\n",
        "                                                          random_state = 42))\n",
        "\n",
        "  def log_reg(self):\n",
        "    #define clf como el clasificador de regresion logistica\n",
        "    clf = LogisticRegression()\n",
        "    #entrena el algoritmo\n",
        "    clf.fit(self.x_train, self.y_train)\n",
        "    #predicciones del algoritmo\n",
        "    f = clf.predict(self.x_test)\n",
        "    #resultados del entrenamiento y pueba\n",
        "    print('precisión Regresión logística,:', accuracy_score(self.y_test, f))\n",
        "    print('\\nMatriz de confusion:\\n', confusion_matrix(self.y_test, f),'\\n')\n",
        "\n",
        "  def KN_neighbors(self):\n",
        "    #define clf como el clasificador de K-Nearest Neighbors\n",
        "    clf = NearestCentroid()\n",
        "    #entrena el algoritmo\n",
        "    clf.fit(self.x_train, self.y_train)\n",
        "    #predicciones del algoritmo\n",
        "    f = clf.predict(self.x_test)\n",
        "    #resultados del entrenamiento y pueba\n",
        "    print('precisión de K-Nearest neighbors:', accuracy_score(self.y_test, f))\n",
        "    print('\\nMatriz de confusion:\\n', confusion_matrix(self.y_test, f),'\\n')\n",
        "\n",
        "  def SVM_SVC(self):\n",
        "    #define clf como el clasificador de SVM\n",
        "    clf = SVC()\n",
        "    #entrena el algoritmo\n",
        "    clf.fit(self.x_train, self.y_train)\n",
        "    #predicciones del algoritmo\n",
        "    f = clf.predict(self.x_test)\n",
        "    #resultados del entrenamiento y pueba\n",
        "    print('precisión de SVM:', accuracy_score(self.y_test, f))\n",
        "    print('\\nMatriz de confusion:\\n', confusion_matrix(self.y_test, f),'\\n')\n",
        "\n",
        "  def Arb_Dec(self):\n",
        "    #define clf como el clasificador de Arboles de Decision\n",
        "    clf = DecisionTreeClassifier()\n",
        "    #entrena el algoritmo\n",
        "    clf.fit(self.x_train, self.y_train)\n",
        "    #predicciones del algoritmo\n",
        "    f = clf.predict(self.x_test)\n",
        "    #resultados del entrenamiento y pueba\n",
        "    print('precisión de Árboles de decisión:', accuracy_score(self.y_test, f))\n",
        "    print('\\nMatriz de confusion:\\n', confusion_matrix(self.y_test, f),'\\n')\n",
        "\n",
        "  def Ran_Forest(self):\n",
        "    #define clf como el clasificador Random Forest\n",
        "    clf = RandomForestClassifier()\n",
        "    #entrena el algoritmo\n",
        "    clf.fit(self.x_train, self.y_train)\n",
        "    #predicciones del algoritmo\n",
        "    f = clf.predict(self.x_test)\n",
        "    #resultados del entrenamiento y pueba\n",
        "    print('precisión de Random Forest:', accuracy_score(self.y_test, f))\n",
        "    print('\\nMatriz de confusion:\\n', confusion_matrix(self.y_test, f),'\\n')\n",
        "\n",
        "def main():\n",
        "\n",
        "  P = Clasificador('/content/mnt/MyDrive/cancer.csv')\n",
        "\n",
        "  P.log_reg()\n",
        "  P.KN_neighbors()\n",
        "  P.SVM_SVC()\n",
        "  P.Arb_Dec()\n",
        "  P.Ran_Forest()\n",
        "\n",
        "if __name__ == '__main__':\n",
        " main()\n",
        "\n",
        "\n"
      ]
    },
    {
      "cell_type": "code",
      "source": [],
      "metadata": {
        "id": "W1wlxk8Nkwbf"
      },
      "execution_count": null,
      "outputs": []
    }
  ]
}